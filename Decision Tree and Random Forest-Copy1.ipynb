{
 "cells": [
  {
   "cell_type": "code",
   "execution_count": 1,
   "id": "69848886",
   "metadata": {},
   "outputs": [],
   "source": [
    "#restart the kernel after installation\n",
    "!pip install pandas-profiling numpy matplotlib seaborn --quiet"
   ]
  },
  {
   "cell_type": "code",
   "execution_count": 2,
   "id": "c9502d01",
   "metadata": {},
   "outputs": [],
   "source": [
    "!pip install opendatasets scikit-learn jovian --quiet --upgrade"
   ]
  },
  {
   "cell_type": "code",
   "execution_count": 3,
   "id": "322d7119",
   "metadata": {},
   "outputs": [],
   "source": [
    "import opendatasets as od\n",
    "import matplotlib.pyplot as plt\n",
    "import seaborn as sns\n",
    "import pandas as pd\n",
    "import numpy as np\n",
    "import matplotlib\n",
    "import os\n",
    "%matplotlib inline\n",
    "\n",
    "pd.set_option('display.max_columns', None)\n",
    "pd.set_option('display.max_rows', 150)\n",
    "sns.set_style('darkgrid')\n",
    "matplotlib.rcParams['font.size'] = 14\n",
    "matplotlib.rcParams['figure.figsize'] = (10, 6)\n",
    "matplotlib.rcParams['figure.facecolor'] = '#00000000'"
   ]
  },
  {
   "cell_type": "code",
   "execution_count": 4,
   "id": "b1df5d3d",
   "metadata": {},
   "outputs": [],
   "source": [
    "dataset_url = 'https://www.kaggle.com/camnugent/sandp500'"
   ]
  },
  {
   "cell_type": "code",
   "execution_count": 5,
   "id": "c44b4f9e",
   "metadata": {},
   "outputs": [
    {
     "name": "stdout",
     "output_type": "stream",
     "text": [
      "Skipping, found downloaded files in \".\\sandp500\" (use force=True to force download)\n"
     ]
    }
   ],
   "source": [
    "od.download(dataset_url)"
   ]
  },
  {
   "cell_type": "code",
   "execution_count": 6,
   "id": "a502d836",
   "metadata": {},
   "outputs": [],
   "source": [
    "import os"
   ]
  },
  {
   "cell_type": "code",
   "execution_count": 7,
   "id": "12a8926d",
   "metadata": {},
   "outputs": [],
   "source": [
    "data_dir = './sandp500'"
   ]
  },
  {
   "cell_type": "code",
   "execution_count": 8,
   "id": "18289003",
   "metadata": {},
   "outputs": [
    {
     "data": {
      "text/plain": [
       "['all_stocks_5yr.csv', 'getSandP.py', 'individual_stocks_5yr', 'merge.sh']"
      ]
     },
     "execution_count": 8,
     "metadata": {},
     "output_type": "execute_result"
    }
   ],
   "source": [
    "os.listdir(data_dir)"
   ]
  },
  {
   "cell_type": "code",
   "execution_count": 9,
   "id": "55cfb9c3",
   "metadata": {},
   "outputs": [],
   "source": [
    "train_csv = data_dir + '/all_stocks_5yr.csv'"
   ]
  },
  {
   "cell_type": "code",
   "execution_count": 10,
   "id": "fe2cc8ca",
   "metadata": {},
   "outputs": [
    {
     "name": "stdout",
     "output_type": "stream",
     "text": [
      "Requirement already satisfied: pandas in c:\\users\\viengkeo\\anaconda3\\lib\\site-packages (1.4.2)\n",
      "Requirement already satisfied: pytz>=2020.1 in c:\\users\\viengkeo\\anaconda3\\lib\\site-packages (from pandas) (2022.1)\n",
      "Requirement already satisfied: numpy>=1.18.5 in c:\\users\\viengkeo\\anaconda3\\lib\\site-packages (from pandas) (1.21.5)\n",
      "Requirement already satisfied: python-dateutil>=2.8.1 in c:\\users\\viengkeo\\anaconda3\\lib\\site-packages (from pandas) (2.8.2)\n",
      "Requirement already satisfied: six>=1.5 in c:\\users\\viengkeo\\anaconda3\\lib\\site-packages (from python-dateutil>=2.8.1->pandas) (1.16.0)\n"
     ]
    }
   ],
   "source": [
    "!pip install pandas"
   ]
  },
  {
   "cell_type": "code",
   "execution_count": 11,
   "id": "d2528d1f",
   "metadata": {},
   "outputs": [],
   "source": [
    "import pandas as pd"
   ]
  },
  {
   "cell_type": "code",
   "execution_count": 12,
   "id": "8f8d5197",
   "metadata": {},
   "outputs": [
    {
     "data": {
      "text/html": [
       "<div>\n",
       "<style scoped>\n",
       "    .dataframe tbody tr th:only-of-type {\n",
       "        vertical-align: middle;\n",
       "    }\n",
       "\n",
       "    .dataframe tbody tr th {\n",
       "        vertical-align: top;\n",
       "    }\n",
       "\n",
       "    .dataframe thead th {\n",
       "        text-align: right;\n",
       "    }\n",
       "</style>\n",
       "<table border=\"1\" class=\"dataframe\">\n",
       "  <thead>\n",
       "    <tr style=\"text-align: right;\">\n",
       "      <th></th>\n",
       "      <th>date</th>\n",
       "      <th>open</th>\n",
       "      <th>high</th>\n",
       "      <th>low</th>\n",
       "      <th>close</th>\n",
       "      <th>volume</th>\n",
       "      <th>Name</th>\n",
       "    </tr>\n",
       "  </thead>\n",
       "  <tbody>\n",
       "    <tr>\n",
       "      <th>0</th>\n",
       "      <td>2013-02-08</td>\n",
       "      <td>15.07</td>\n",
       "      <td>15.12</td>\n",
       "      <td>14.63</td>\n",
       "      <td>14.75</td>\n",
       "      <td>8407500</td>\n",
       "      <td>AAL</td>\n",
       "    </tr>\n",
       "    <tr>\n",
       "      <th>1</th>\n",
       "      <td>2013-02-11</td>\n",
       "      <td>14.89</td>\n",
       "      <td>15.01</td>\n",
       "      <td>14.26</td>\n",
       "      <td>14.46</td>\n",
       "      <td>8882000</td>\n",
       "      <td>AAL</td>\n",
       "    </tr>\n",
       "    <tr>\n",
       "      <th>2</th>\n",
       "      <td>2013-02-12</td>\n",
       "      <td>14.45</td>\n",
       "      <td>14.51</td>\n",
       "      <td>14.10</td>\n",
       "      <td>14.27</td>\n",
       "      <td>8126000</td>\n",
       "      <td>AAL</td>\n",
       "    </tr>\n",
       "    <tr>\n",
       "      <th>3</th>\n",
       "      <td>2013-02-13</td>\n",
       "      <td>14.30</td>\n",
       "      <td>14.94</td>\n",
       "      <td>14.25</td>\n",
       "      <td>14.66</td>\n",
       "      <td>10259500</td>\n",
       "      <td>AAL</td>\n",
       "    </tr>\n",
       "    <tr>\n",
       "      <th>4</th>\n",
       "      <td>2013-02-14</td>\n",
       "      <td>14.94</td>\n",
       "      <td>14.96</td>\n",
       "      <td>13.16</td>\n",
       "      <td>13.99</td>\n",
       "      <td>31879900</td>\n",
       "      <td>AAL</td>\n",
       "    </tr>\n",
       "    <tr>\n",
       "      <th>...</th>\n",
       "      <td>...</td>\n",
       "      <td>...</td>\n",
       "      <td>...</td>\n",
       "      <td>...</td>\n",
       "      <td>...</td>\n",
       "      <td>...</td>\n",
       "      <td>...</td>\n",
       "    </tr>\n",
       "    <tr>\n",
       "      <th>619035</th>\n",
       "      <td>2018-02-01</td>\n",
       "      <td>76.84</td>\n",
       "      <td>78.27</td>\n",
       "      <td>76.69</td>\n",
       "      <td>77.82</td>\n",
       "      <td>2982259</td>\n",
       "      <td>ZTS</td>\n",
       "    </tr>\n",
       "    <tr>\n",
       "      <th>619036</th>\n",
       "      <td>2018-02-02</td>\n",
       "      <td>77.53</td>\n",
       "      <td>78.12</td>\n",
       "      <td>76.73</td>\n",
       "      <td>76.78</td>\n",
       "      <td>2595187</td>\n",
       "      <td>ZTS</td>\n",
       "    </tr>\n",
       "    <tr>\n",
       "      <th>619037</th>\n",
       "      <td>2018-02-05</td>\n",
       "      <td>76.64</td>\n",
       "      <td>76.92</td>\n",
       "      <td>73.18</td>\n",
       "      <td>73.83</td>\n",
       "      <td>2962031</td>\n",
       "      <td>ZTS</td>\n",
       "    </tr>\n",
       "    <tr>\n",
       "      <th>619038</th>\n",
       "      <td>2018-02-06</td>\n",
       "      <td>72.74</td>\n",
       "      <td>74.56</td>\n",
       "      <td>72.13</td>\n",
       "      <td>73.27</td>\n",
       "      <td>4924323</td>\n",
       "      <td>ZTS</td>\n",
       "    </tr>\n",
       "    <tr>\n",
       "      <th>619039</th>\n",
       "      <td>2018-02-07</td>\n",
       "      <td>72.70</td>\n",
       "      <td>75.00</td>\n",
       "      <td>72.69</td>\n",
       "      <td>73.86</td>\n",
       "      <td>4534912</td>\n",
       "      <td>ZTS</td>\n",
       "    </tr>\n",
       "  </tbody>\n",
       "</table>\n",
       "<p>619040 rows × 7 columns</p>\n",
       "</div>"
      ],
      "text/plain": [
       "              date   open   high    low  close    volume Name\n",
       "0       2013-02-08  15.07  15.12  14.63  14.75   8407500  AAL\n",
       "1       2013-02-11  14.89  15.01  14.26  14.46   8882000  AAL\n",
       "2       2013-02-12  14.45  14.51  14.10  14.27   8126000  AAL\n",
       "3       2013-02-13  14.30  14.94  14.25  14.66  10259500  AAL\n",
       "4       2013-02-14  14.94  14.96  13.16  13.99  31879900  AAL\n",
       "...            ...    ...    ...    ...    ...       ...  ...\n",
       "619035  2018-02-01  76.84  78.27  76.69  77.82   2982259  ZTS\n",
       "619036  2018-02-02  77.53  78.12  76.73  76.78   2595187  ZTS\n",
       "619037  2018-02-05  76.64  76.92  73.18  73.83   2962031  ZTS\n",
       "619038  2018-02-06  72.74  74.56  72.13  73.27   4924323  ZTS\n",
       "619039  2018-02-07  72.70  75.00  72.69  73.86   4534912  ZTS\n",
       "\n",
       "[619040 rows x 7 columns]"
      ]
     },
     "execution_count": 12,
     "metadata": {},
     "output_type": "execute_result"
    }
   ],
   "source": [
    "raw_df = pd.read_csv(train_csv)\n",
    "raw_df"
   ]
  },
  {
   "cell_type": "code",
   "execution_count": 13,
   "id": "6db4ec54",
   "metadata": {},
   "outputs": [
    {
     "name": "stdout",
     "output_type": "stream",
     "text": [
      "<class 'pandas.core.frame.DataFrame'>\n",
      "RangeIndex: 619040 entries, 0 to 619039\n",
      "Data columns (total 7 columns):\n",
      " #   Column  Non-Null Count   Dtype  \n",
      "---  ------  --------------   -----  \n",
      " 0   date    619040 non-null  object \n",
      " 1   open    619029 non-null  float64\n",
      " 2   high    619032 non-null  float64\n",
      " 3   low     619032 non-null  float64\n",
      " 4   close   619040 non-null  float64\n",
      " 5   volume  619040 non-null  int64  \n",
      " 6   Name    619040 non-null  object \n",
      "dtypes: float64(4), int64(1), object(2)\n",
      "memory usage: 33.1+ MB\n"
     ]
    }
   ],
   "source": [
    "raw_df.info()"
   ]
  },
  {
   "cell_type": "code",
   "execution_count": 14,
   "id": "48c454eb",
   "metadata": {},
   "outputs": [],
   "source": [
    "raw_df.dropna(subset=['close', 'low', 'high', 'open', 'volume'], inplace=True) #dropna eliminates any value with null value"
   ]
  },
  {
   "cell_type": "code",
   "execution_count": 15,
   "id": "56b07764",
   "metadata": {},
   "outputs": [
    {
     "name": "stdout",
     "output_type": "stream",
     "text": [
      "<class 'pandas.core.frame.DataFrame'>\n",
      "Int64Index: 619029 entries, 0 to 619039\n",
      "Data columns (total 7 columns):\n",
      " #   Column  Non-Null Count   Dtype  \n",
      "---  ------  --------------   -----  \n",
      " 0   date    619029 non-null  object \n",
      " 1   open    619029 non-null  float64\n",
      " 2   high    619029 non-null  float64\n",
      " 3   low     619029 non-null  float64\n",
      " 4   close   619029 non-null  float64\n",
      " 5   volume  619029 non-null  int64  \n",
      " 6   Name    619029 non-null  object \n",
      "dtypes: float64(4), int64(1), object(2)\n",
      "memory usage: 37.8+ MB\n"
     ]
    }
   ],
   "source": [
    "raw_df.info() #the null values were eliminated as the row of items decrease to 619029"
   ]
  },
  {
   "cell_type": "code",
   "execution_count": 16,
   "id": "0d8b65c8",
   "metadata": {},
   "outputs": [
    {
     "data": {
      "text/html": [
       "<div>\n",
       "<style scoped>\n",
       "    .dataframe tbody tr th:only-of-type {\n",
       "        vertical-align: middle;\n",
       "    }\n",
       "\n",
       "    .dataframe tbody tr th {\n",
       "        vertical-align: top;\n",
       "    }\n",
       "\n",
       "    .dataframe thead th {\n",
       "        text-align: right;\n",
       "    }\n",
       "</style>\n",
       "<table border=\"1\" class=\"dataframe\">\n",
       "  <thead>\n",
       "    <tr style=\"text-align: right;\">\n",
       "      <th></th>\n",
       "      <th>open</th>\n",
       "      <th>high</th>\n",
       "      <th>low</th>\n",
       "      <th>close</th>\n",
       "      <th>volume</th>\n",
       "    </tr>\n",
       "  </thead>\n",
       "  <tbody>\n",
       "    <tr>\n",
       "      <th>count</th>\n",
       "      <td>619029.000000</td>\n",
       "      <td>619029.000000</td>\n",
       "      <td>619029.000000</td>\n",
       "      <td>619029.000000</td>\n",
       "      <td>6.190290e+05</td>\n",
       "    </tr>\n",
       "    <tr>\n",
       "      <th>mean</th>\n",
       "      <td>83.023334</td>\n",
       "      <td>83.778419</td>\n",
       "      <td>82.256200</td>\n",
       "      <td>83.043305</td>\n",
       "      <td>4.321892e+06</td>\n",
       "    </tr>\n",
       "    <tr>\n",
       "      <th>std</th>\n",
       "      <td>97.378769</td>\n",
       "      <td>98.207735</td>\n",
       "      <td>96.507634</td>\n",
       "      <td>97.388913</td>\n",
       "      <td>8.693671e+06</td>\n",
       "    </tr>\n",
       "    <tr>\n",
       "      <th>min</th>\n",
       "      <td>1.620000</td>\n",
       "      <td>1.690000</td>\n",
       "      <td>1.500000</td>\n",
       "      <td>1.590000</td>\n",
       "      <td>1.010000e+02</td>\n",
       "    </tr>\n",
       "    <tr>\n",
       "      <th>25%</th>\n",
       "      <td>40.220000</td>\n",
       "      <td>40.620000</td>\n",
       "      <td>39.830000</td>\n",
       "      <td>40.240800</td>\n",
       "      <td>1.070351e+06</td>\n",
       "    </tr>\n",
       "    <tr>\n",
       "      <th>50%</th>\n",
       "      <td>62.590000</td>\n",
       "      <td>63.150000</td>\n",
       "      <td>62.020000</td>\n",
       "      <td>62.620000</td>\n",
       "      <td>2.082165e+06</td>\n",
       "    </tr>\n",
       "    <tr>\n",
       "      <th>75%</th>\n",
       "      <td>94.370000</td>\n",
       "      <td>95.180000</td>\n",
       "      <td>93.540000</td>\n",
       "      <td>94.410000</td>\n",
       "      <td>4.284550e+06</td>\n",
       "    </tr>\n",
       "    <tr>\n",
       "      <th>max</th>\n",
       "      <td>2044.000000</td>\n",
       "      <td>2067.990000</td>\n",
       "      <td>2035.110000</td>\n",
       "      <td>2049.000000</td>\n",
       "      <td>6.182376e+08</td>\n",
       "    </tr>\n",
       "  </tbody>\n",
       "</table>\n",
       "</div>"
      ],
      "text/plain": [
       "                open           high            low          close  \\\n",
       "count  619029.000000  619029.000000  619029.000000  619029.000000   \n",
       "mean       83.023334      83.778419      82.256200      83.043305   \n",
       "std        97.378769      98.207735      96.507634      97.388913   \n",
       "min         1.620000       1.690000       1.500000       1.590000   \n",
       "25%        40.220000      40.620000      39.830000      40.240800   \n",
       "50%        62.590000      63.150000      62.020000      62.620000   \n",
       "75%        94.370000      95.180000      93.540000      94.410000   \n",
       "max      2044.000000    2067.990000    2035.110000    2049.000000   \n",
       "\n",
       "             volume  \n",
       "count  6.190290e+05  \n",
       "mean   4.321892e+06  \n",
       "std    8.693671e+06  \n",
       "min    1.010000e+02  \n",
       "25%    1.070351e+06  \n",
       "50%    2.082165e+06  \n",
       "75%    4.284550e+06  \n",
       "max    6.182376e+08  "
      ]
     },
     "execution_count": 16,
     "metadata": {},
     "output_type": "execute_result"
    }
   ],
   "source": [
    "raw_df.describe()"
   ]
  },
  {
   "cell_type": "code",
   "execution_count": 17,
   "id": "735c0471",
   "metadata": {},
   "outputs": [
    {
     "data": {
      "image/png": "[encoded data removed]",
      "text/plain": [
       "<Figure size 720x432 with 1 Axes>"
      ]
     },
     "metadata": {
      "needs_background": "light"
     },
     "output_type": "display_data"
    }
   ],
   "source": [
    "plt.title('No. of Rows per Year')\n",
    "sns.countplot(x=pd.to_datetime(raw_df.date).dt.year);"
   ]
  },
  {
   "cell_type": "code",
   "execution_count": 18,
   "id": "b84012eb",
   "metadata": {},
   "outputs": [],
   "source": [
    "year = pd.to_datetime(raw_df.date).dt.year #separating the data into train, val and test data\n",
    "train_df = raw_df[year < 2016]\n",
    "val_df = raw_df[year == 2016]\n",
    "test_df = raw_df[year > 2016]"
   ]
  },
  {
   "cell_type": "code",
   "execution_count": 19,
   "id": "a4863ed3",
   "metadata": {},
   "outputs": [
    {
     "name": "stdout",
     "output_type": "stream",
     "text": [
      "train_df.shape : (354548, 7)\n"
     ]
    }
   ],
   "source": [
    "print('train_df.shape :', train_df.shape)"
   ]
  },
  {
   "cell_type": "code",
   "execution_count": 20,
   "id": "cec496b6",
   "metadata": {},
   "outputs": [
    {
     "name": "stdout",
     "output_type": "stream",
     "text": [
      "val_df.shape : (125320, 7)\n"
     ]
    }
   ],
   "source": [
    "print('val_df.shape :', val_df.shape)"
   ]
  },
  {
   "cell_type": "code",
   "execution_count": 21,
   "id": "6c610e88",
   "metadata": {},
   "outputs": [
    {
     "name": "stdout",
     "output_type": "stream",
     "text": [
      "test_df.shape : (139161, 7)\n"
     ]
    }
   ],
   "source": [
    "print('test_df.shape :', test_df.shape)"
   ]
  },
  {
   "cell_type": "code",
   "execution_count": 22,
   "id": "154c9c12",
   "metadata": {},
   "outputs": [
    {
     "data": {
      "text/html": [
       "<div>\n",
       "<style scoped>\n",
       "    .dataframe tbody tr th:only-of-type {\n",
       "        vertical-align: middle;\n",
       "    }\n",
       "\n",
       "    .dataframe tbody tr th {\n",
       "        vertical-align: top;\n",
       "    }\n",
       "\n",
       "    .dataframe thead th {\n",
       "        text-align: right;\n",
       "    }\n",
       "</style>\n",
       "<table border=\"1\" class=\"dataframe\">\n",
       "  <thead>\n",
       "    <tr style=\"text-align: right;\">\n",
       "      <th></th>\n",
       "      <th>date</th>\n",
       "      <th>open</th>\n",
       "      <th>high</th>\n",
       "      <th>low</th>\n",
       "      <th>close</th>\n",
       "      <th>volume</th>\n",
       "      <th>Name</th>\n",
       "    </tr>\n",
       "  </thead>\n",
       "  <tbody>\n",
       "    <tr>\n",
       "      <th>0</th>\n",
       "      <td>2013-02-08</td>\n",
       "      <td>15.07</td>\n",
       "      <td>15.120</td>\n",
       "      <td>14.630</td>\n",
       "      <td>14.75</td>\n",
       "      <td>8407500</td>\n",
       "      <td>AAL</td>\n",
       "    </tr>\n",
       "    <tr>\n",
       "      <th>1</th>\n",
       "      <td>2013-02-11</td>\n",
       "      <td>14.89</td>\n",
       "      <td>15.010</td>\n",
       "      <td>14.260</td>\n",
       "      <td>14.46</td>\n",
       "      <td>8882000</td>\n",
       "      <td>AAL</td>\n",
       "    </tr>\n",
       "    <tr>\n",
       "      <th>2</th>\n",
       "      <td>2013-02-12</td>\n",
       "      <td>14.45</td>\n",
       "      <td>14.510</td>\n",
       "      <td>14.100</td>\n",
       "      <td>14.27</td>\n",
       "      <td>8126000</td>\n",
       "      <td>AAL</td>\n",
       "    </tr>\n",
       "    <tr>\n",
       "      <th>3</th>\n",
       "      <td>2013-02-13</td>\n",
       "      <td>14.30</td>\n",
       "      <td>14.940</td>\n",
       "      <td>14.250</td>\n",
       "      <td>14.66</td>\n",
       "      <td>10259500</td>\n",
       "      <td>AAL</td>\n",
       "    </tr>\n",
       "    <tr>\n",
       "      <th>4</th>\n",
       "      <td>2013-02-14</td>\n",
       "      <td>14.94</td>\n",
       "      <td>14.960</td>\n",
       "      <td>13.160</td>\n",
       "      <td>13.99</td>\n",
       "      <td>31879900</td>\n",
       "      <td>AAL</td>\n",
       "    </tr>\n",
       "    <tr>\n",
       "      <th>...</th>\n",
       "      <td>...</td>\n",
       "      <td>...</td>\n",
       "      <td>...</td>\n",
       "      <td>...</td>\n",
       "      <td>...</td>\n",
       "      <td>...</td>\n",
       "      <td>...</td>\n",
       "    </tr>\n",
       "    <tr>\n",
       "      <th>618506</th>\n",
       "      <td>2015-12-24</td>\n",
       "      <td>47.86</td>\n",
       "      <td>48.450</td>\n",
       "      <td>47.630</td>\n",
       "      <td>48.13</td>\n",
       "      <td>965268</td>\n",
       "      <td>ZTS</td>\n",
       "    </tr>\n",
       "    <tr>\n",
       "      <th>618507</th>\n",
       "      <td>2015-12-28</td>\n",
       "      <td>47.96</td>\n",
       "      <td>48.200</td>\n",
       "      <td>47.590</td>\n",
       "      <td>47.90</td>\n",
       "      <td>928748</td>\n",
       "      <td>ZTS</td>\n",
       "    </tr>\n",
       "    <tr>\n",
       "      <th>618508</th>\n",
       "      <td>2015-12-29</td>\n",
       "      <td>48.37</td>\n",
       "      <td>48.620</td>\n",
       "      <td>47.960</td>\n",
       "      <td>48.33</td>\n",
       "      <td>1483846</td>\n",
       "      <td>ZTS</td>\n",
       "    </tr>\n",
       "    <tr>\n",
       "      <th>618509</th>\n",
       "      <td>2015-12-30</td>\n",
       "      <td>48.33</td>\n",
       "      <td>48.645</td>\n",
       "      <td>48.005</td>\n",
       "      <td>48.26</td>\n",
       "      <td>1453861</td>\n",
       "      <td>ZTS</td>\n",
       "    </tr>\n",
       "    <tr>\n",
       "      <th>618510</th>\n",
       "      <td>2015-12-31</td>\n",
       "      <td>47.93</td>\n",
       "      <td>48.400</td>\n",
       "      <td>47.810</td>\n",
       "      <td>47.92</td>\n",
       "      <td>1768460</td>\n",
       "      <td>ZTS</td>\n",
       "    </tr>\n",
       "  </tbody>\n",
       "</table>\n",
       "<p>354548 rows × 7 columns</p>\n",
       "</div>"
      ],
      "text/plain": [
       "              date   open    high     low  close    volume Name\n",
       "0       2013-02-08  15.07  15.120  14.630  14.75   8407500  AAL\n",
       "1       2013-02-11  14.89  15.010  14.260  14.46   8882000  AAL\n",
       "2       2013-02-12  14.45  14.510  14.100  14.27   8126000  AAL\n",
       "3       2013-02-13  14.30  14.940  14.250  14.66  10259500  AAL\n",
       "4       2013-02-14  14.94  14.960  13.160  13.99  31879900  AAL\n",
       "...            ...    ...     ...     ...    ...       ...  ...\n",
       "618506  2015-12-24  47.86  48.450  47.630  48.13    965268  ZTS\n",
       "618507  2015-12-28  47.96  48.200  47.590  47.90    928748  ZTS\n",
       "618508  2015-12-29  48.37  48.620  47.960  48.33   1483846  ZTS\n",
       "618509  2015-12-30  48.33  48.645  48.005  48.26   1453861  ZTS\n",
       "618510  2015-12-31  47.93  48.400  47.810  47.92   1768460  ZTS\n",
       "\n",
       "[354548 rows x 7 columns]"
      ]
     },
     "execution_count": 22,
     "metadata": {},
     "output_type": "execute_result"
    }
   ],
   "source": [
    "train_df"
   ]
  },
  {
   "cell_type": "code",
   "execution_count": 23,
   "id": "9780c743",
   "metadata": {},
   "outputs": [
    {
     "data": {
      "text/html": [
       "<div>\n",
       "<style scoped>\n",
       "    .dataframe tbody tr th:only-of-type {\n",
       "        vertical-align: middle;\n",
       "    }\n",
       "\n",
       "    .dataframe tbody tr th {\n",
       "        vertical-align: top;\n",
       "    }\n",
       "\n",
       "    .dataframe thead th {\n",
       "        text-align: right;\n",
       "    }\n",
       "</style>\n",
       "<table border=\"1\" class=\"dataframe\">\n",
       "  <thead>\n",
       "    <tr style=\"text-align: right;\">\n",
       "      <th></th>\n",
       "      <th>date</th>\n",
       "      <th>open</th>\n",
       "      <th>high</th>\n",
       "      <th>low</th>\n",
       "      <th>close</th>\n",
       "      <th>volume</th>\n",
       "      <th>Name</th>\n",
       "    </tr>\n",
       "  </thead>\n",
       "  <tbody>\n",
       "    <tr>\n",
       "      <th>730</th>\n",
       "      <td>2016-01-04</td>\n",
       "      <td>41.2900</td>\n",
       "      <td>41.3501</td>\n",
       "      <td>40.30</td>\n",
       "      <td>40.91</td>\n",
       "      <td>12037151</td>\n",
       "      <td>AAL</td>\n",
       "    </tr>\n",
       "    <tr>\n",
       "      <th>731</th>\n",
       "      <td>2016-01-05</td>\n",
       "      <td>41.1800</td>\n",
       "      <td>41.4900</td>\n",
       "      <td>39.95</td>\n",
       "      <td>40.52</td>\n",
       "      <td>10514164</td>\n",
       "      <td>AAL</td>\n",
       "    </tr>\n",
       "    <tr>\n",
       "      <th>732</th>\n",
       "      <td>2016-01-06</td>\n",
       "      <td>40.0500</td>\n",
       "      <td>41.7000</td>\n",
       "      <td>40.00</td>\n",
       "      <td>41.23</td>\n",
       "      <td>12393780</td>\n",
       "      <td>AAL</td>\n",
       "    </tr>\n",
       "    <tr>\n",
       "      <th>733</th>\n",
       "      <td>2016-01-07</td>\n",
       "      <td>40.9700</td>\n",
       "      <td>41.5200</td>\n",
       "      <td>39.68</td>\n",
       "      <td>40.45</td>\n",
       "      <td>11312876</td>\n",
       "      <td>AAL</td>\n",
       "    </tr>\n",
       "    <tr>\n",
       "      <th>734</th>\n",
       "      <td>2016-01-08</td>\n",
       "      <td>40.9400</td>\n",
       "      <td>41.3600</td>\n",
       "      <td>40.26</td>\n",
       "      <td>40.37</td>\n",
       "      <td>8853096</td>\n",
       "      <td>AAL</td>\n",
       "    </tr>\n",
       "    <tr>\n",
       "      <th>...</th>\n",
       "      <td>...</td>\n",
       "      <td>...</td>\n",
       "      <td>...</td>\n",
       "      <td>...</td>\n",
       "      <td>...</td>\n",
       "      <td>...</td>\n",
       "      <td>...</td>\n",
       "    </tr>\n",
       "    <tr>\n",
       "      <th>618758</th>\n",
       "      <td>2016-12-23</td>\n",
       "      <td>53.2000</td>\n",
       "      <td>53.7800</td>\n",
       "      <td>53.18</td>\n",
       "      <td>53.78</td>\n",
       "      <td>1942469</td>\n",
       "      <td>ZTS</td>\n",
       "    </tr>\n",
       "    <tr>\n",
       "      <th>618759</th>\n",
       "      <td>2016-12-27</td>\n",
       "      <td>53.7800</td>\n",
       "      <td>54.1500</td>\n",
       "      <td>53.65</td>\n",
       "      <td>53.72</td>\n",
       "      <td>1344976</td>\n",
       "      <td>ZTS</td>\n",
       "    </tr>\n",
       "    <tr>\n",
       "      <th>618760</th>\n",
       "      <td>2016-12-28</td>\n",
       "      <td>53.7600</td>\n",
       "      <td>53.8500</td>\n",
       "      <td>53.35</td>\n",
       "      <td>53.44</td>\n",
       "      <td>1241854</td>\n",
       "      <td>ZTS</td>\n",
       "    </tr>\n",
       "    <tr>\n",
       "      <th>618761</th>\n",
       "      <td>2016-12-29</td>\n",
       "      <td>53.4747</td>\n",
       "      <td>53.7790</td>\n",
       "      <td>53.40</td>\n",
       "      <td>53.62</td>\n",
       "      <td>1047017</td>\n",
       "      <td>ZTS</td>\n",
       "    </tr>\n",
       "    <tr>\n",
       "      <th>618762</th>\n",
       "      <td>2016-12-30</td>\n",
       "      <td>53.6400</td>\n",
       "      <td>53.7400</td>\n",
       "      <td>53.27</td>\n",
       "      <td>53.53</td>\n",
       "      <td>1701204</td>\n",
       "      <td>ZTS</td>\n",
       "    </tr>\n",
       "  </tbody>\n",
       "</table>\n",
       "<p>125320 rows × 7 columns</p>\n",
       "</div>"
      ],
      "text/plain": [
       "              date     open     high    low  close    volume Name\n",
       "730     2016-01-04  41.2900  41.3501  40.30  40.91  12037151  AAL\n",
       "731     2016-01-05  41.1800  41.4900  39.95  40.52  10514164  AAL\n",
       "732     2016-01-06  40.0500  41.7000  40.00  41.23  12393780  AAL\n",
       "733     2016-01-07  40.9700  41.5200  39.68  40.45  11312876  AAL\n",
       "734     2016-01-08  40.9400  41.3600  40.26  40.37   8853096  AAL\n",
       "...            ...      ...      ...    ...    ...       ...  ...\n",
       "618758  2016-12-23  53.2000  53.7800  53.18  53.78   1942469  ZTS\n",
       "618759  2016-12-27  53.7800  54.1500  53.65  53.72   1344976  ZTS\n",
       "618760  2016-12-28  53.7600  53.8500  53.35  53.44   1241854  ZTS\n",
       "618761  2016-12-29  53.4747  53.7790  53.40  53.62   1047017  ZTS\n",
       "618762  2016-12-30  53.6400  53.7400  53.27  53.53   1701204  ZTS\n",
       "\n",
       "[125320 rows x 7 columns]"
      ]
     },
     "execution_count": 23,
     "metadata": {},
     "output_type": "execute_result"
    }
   ],
   "source": [
    "val_df"
   ]
  },
  {
   "cell_type": "code",
   "execution_count": 24,
   "id": "71c558a2",
   "metadata": {},
   "outputs": [
    {
     "data": {
      "text/html": [
       "<div>\n",
       "<style scoped>\n",
       "    .dataframe tbody tr th:only-of-type {\n",
       "        vertical-align: middle;\n",
       "    }\n",
       "\n",
       "    .dataframe tbody tr th {\n",
       "        vertical-align: top;\n",
       "    }\n",
       "\n",
       "    .dataframe thead th {\n",
       "        text-align: right;\n",
       "    }\n",
       "</style>\n",
       "<table border=\"1\" class=\"dataframe\">\n",
       "  <thead>\n",
       "    <tr style=\"text-align: right;\">\n",
       "      <th></th>\n",
       "      <th>date</th>\n",
       "      <th>open</th>\n",
       "      <th>high</th>\n",
       "      <th>low</th>\n",
       "      <th>close</th>\n",
       "      <th>volume</th>\n",
       "      <th>Name</th>\n",
       "    </tr>\n",
       "  </thead>\n",
       "  <tbody>\n",
       "    <tr>\n",
       "      <th>982</th>\n",
       "      <td>2017-01-03</td>\n",
       "      <td>47.28</td>\n",
       "      <td>47.340</td>\n",
       "      <td>46.135</td>\n",
       "      <td>46.30</td>\n",
       "      <td>6737752</td>\n",
       "      <td>AAL</td>\n",
       "    </tr>\n",
       "    <tr>\n",
       "      <th>983</th>\n",
       "      <td>2017-01-04</td>\n",
       "      <td>46.63</td>\n",
       "      <td>47.435</td>\n",
       "      <td>46.350</td>\n",
       "      <td>46.70</td>\n",
       "      <td>5859604</td>\n",
       "      <td>AAL</td>\n",
       "    </tr>\n",
       "    <tr>\n",
       "      <th>984</th>\n",
       "      <td>2017-01-05</td>\n",
       "      <td>46.52</td>\n",
       "      <td>46.930</td>\n",
       "      <td>45.610</td>\n",
       "      <td>45.89</td>\n",
       "      <td>6825316</td>\n",
       "      <td>AAL</td>\n",
       "    </tr>\n",
       "    <tr>\n",
       "      <th>985</th>\n",
       "      <td>2017-01-06</td>\n",
       "      <td>45.85</td>\n",
       "      <td>46.720</td>\n",
       "      <td>45.470</td>\n",
       "      <td>46.21</td>\n",
       "      <td>7260197</td>\n",
       "      <td>AAL</td>\n",
       "    </tr>\n",
       "    <tr>\n",
       "      <th>986</th>\n",
       "      <td>2017-01-09</td>\n",
       "      <td>46.01</td>\n",
       "      <td>47.340</td>\n",
       "      <td>45.780</td>\n",
       "      <td>47.08</td>\n",
       "      <td>4739142</td>\n",
       "      <td>AAL</td>\n",
       "    </tr>\n",
       "    <tr>\n",
       "      <th>...</th>\n",
       "      <td>...</td>\n",
       "      <td>...</td>\n",
       "      <td>...</td>\n",
       "      <td>...</td>\n",
       "      <td>...</td>\n",
       "      <td>...</td>\n",
       "      <td>...</td>\n",
       "    </tr>\n",
       "    <tr>\n",
       "      <th>619035</th>\n",
       "      <td>2018-02-01</td>\n",
       "      <td>76.84</td>\n",
       "      <td>78.270</td>\n",
       "      <td>76.690</td>\n",
       "      <td>77.82</td>\n",
       "      <td>2982259</td>\n",
       "      <td>ZTS</td>\n",
       "    </tr>\n",
       "    <tr>\n",
       "      <th>619036</th>\n",
       "      <td>2018-02-02</td>\n",
       "      <td>77.53</td>\n",
       "      <td>78.120</td>\n",
       "      <td>76.730</td>\n",
       "      <td>76.78</td>\n",
       "      <td>2595187</td>\n",
       "      <td>ZTS</td>\n",
       "    </tr>\n",
       "    <tr>\n",
       "      <th>619037</th>\n",
       "      <td>2018-02-05</td>\n",
       "      <td>76.64</td>\n",
       "      <td>76.920</td>\n",
       "      <td>73.180</td>\n",
       "      <td>73.83</td>\n",
       "      <td>2962031</td>\n",
       "      <td>ZTS</td>\n",
       "    </tr>\n",
       "    <tr>\n",
       "      <th>619038</th>\n",
       "      <td>2018-02-06</td>\n",
       "      <td>72.74</td>\n",
       "      <td>74.560</td>\n",
       "      <td>72.130</td>\n",
       "      <td>73.27</td>\n",
       "      <td>4924323</td>\n",
       "      <td>ZTS</td>\n",
       "    </tr>\n",
       "    <tr>\n",
       "      <th>619039</th>\n",
       "      <td>2018-02-07</td>\n",
       "      <td>72.70</td>\n",
       "      <td>75.000</td>\n",
       "      <td>72.690</td>\n",
       "      <td>73.86</td>\n",
       "      <td>4534912</td>\n",
       "      <td>ZTS</td>\n",
       "    </tr>\n",
       "  </tbody>\n",
       "</table>\n",
       "<p>139161 rows × 7 columns</p>\n",
       "</div>"
      ],
      "text/plain": [
       "              date   open    high     low  close   volume Name\n",
       "982     2017-01-03  47.28  47.340  46.135  46.30  6737752  AAL\n",
       "983     2017-01-04  46.63  47.435  46.350  46.70  5859604  AAL\n",
       "984     2017-01-05  46.52  46.930  45.610  45.89  6825316  AAL\n",
       "985     2017-01-06  45.85  46.720  45.470  46.21  7260197  AAL\n",
       "986     2017-01-09  46.01  47.340  45.780  47.08  4739142  AAL\n",
       "...            ...    ...     ...     ...    ...      ...  ...\n",
       "619035  2018-02-01  76.84  78.270  76.690  77.82  2982259  ZTS\n",
       "619036  2018-02-02  77.53  78.120  76.730  76.78  2595187  ZTS\n",
       "619037  2018-02-05  76.64  76.920  73.180  73.83  2962031  ZTS\n",
       "619038  2018-02-06  72.74  74.560  72.130  73.27  4924323  ZTS\n",
       "619039  2018-02-07  72.70  75.000  72.690  73.86  4534912  ZTS\n",
       "\n",
       "[139161 rows x 7 columns]"
      ]
     },
     "execution_count": 24,
     "metadata": {},
     "output_type": "execute_result"
    }
   ],
   "source": [
    "test_df"
   ]
  },
  {
   "cell_type": "code",
   "execution_count": 25,
   "id": "9e8a18fb",
   "metadata": {},
   "outputs": [],
   "source": [
    "input_cols = ['date','open', 'high', 'low', 'volume'] #for now will keep date as a column but will remove it later\n",
    "target_col = ['date','close']"
   ]
  },
  {
   "cell_type": "code",
   "execution_count": 26,
   "id": "96a9bb45",
   "metadata": {},
   "outputs": [],
   "source": [
    "train_inputs = train_df[input_cols].copy()\n",
    "train_targets = train_df[target_col].copy()"
   ]
  },
  {
   "cell_type": "code",
   "execution_count": 27,
   "id": "0203c6dc",
   "metadata": {},
   "outputs": [],
   "source": [
    "val_inputs = val_df[input_cols].copy()\n",
    "val_targets = val_df[target_col].copy()"
   ]
  },
  {
   "cell_type": "code",
   "execution_count": 28,
   "id": "7d78716b",
   "metadata": {},
   "outputs": [],
   "source": [
    "test_inputs = test_df[input_cols].copy()\n",
    "test_targets = test_df[target_col].copy()"
   ]
  },
  {
   "cell_type": "code",
   "execution_count": 29,
   "id": "b4cbd891",
   "metadata": {},
   "outputs": [],
   "source": [
    "numeric_cols = train_inputs.select_dtypes(include=np.number).columns.tolist()\n",
    "categorical_cols = train_inputs.select_dtypes('object').columns.tolist()"
   ]
  },
  {
   "cell_type": "code",
   "execution_count": 30,
   "id": "5ede9f7f",
   "metadata": {},
   "outputs": [
    {
     "name": "stdout",
     "output_type": "stream",
     "text": [
      "['open', 'high', 'low', 'volume']\n"
     ]
    }
   ],
   "source": [
    "print(numeric_cols)"
   ]
  },
  {
   "cell_type": "code",
   "execution_count": 31,
   "id": "1512ce1f",
   "metadata": {},
   "outputs": [
    {
     "name": "stdout",
     "output_type": "stream",
     "text": [
      "['date']\n"
     ]
    }
   ],
   "source": [
    "print(categorical_cols)"
   ]
  },
  {
   "cell_type": "code",
   "execution_count": 32,
   "id": "062e8f73",
   "metadata": {},
   "outputs": [],
   "source": [
    "from sklearn.impute import SimpleImputer"
   ]
  },
  {
   "cell_type": "code",
   "execution_count": 33,
   "id": "e1d65594",
   "metadata": {},
   "outputs": [],
   "source": [
    "imputer = SimpleImputer(strategy = 'mean').fit(raw_df[numeric_cols])"
   ]
  },
  {
   "cell_type": "code",
   "execution_count": 34,
   "id": "21a83d4d",
   "metadata": {},
   "outputs": [],
   "source": [
    "train_inputs[numeric_cols] = imputer.transform(train_inputs[numeric_cols])\n",
    "val_inputs[numeric_cols] = imputer.transform(val_inputs[numeric_cols])\n",
    "test_inputs[numeric_cols] = imputer.transform(test_inputs[numeric_cols])"
   ]
  },
  {
   "cell_type": "code",
   "execution_count": 35,
   "id": "a26fccb0",
   "metadata": {},
   "outputs": [
    {
     "data": {
      "text/plain": [
       "open      0\n",
       "high      0\n",
       "low       0\n",
       "volume    0\n",
       "dtype: int64"
      ]
     },
     "execution_count": 35,
     "metadata": {},
     "output_type": "execute_result"
    }
   ],
   "source": [
    "test_inputs[numeric_cols].isna().sum()"
   ]
  },
  {
   "cell_type": "code",
   "execution_count": 36,
   "id": "a1f82c69",
   "metadata": {},
   "outputs": [
    {
     "data": {
      "text/plain": [
       "open      0\n",
       "high      0\n",
       "low       0\n",
       "volume    0\n",
       "dtype: int64"
      ]
     },
     "execution_count": 36,
     "metadata": {},
     "output_type": "execute_result"
    }
   ],
   "source": [
    "train_inputs[numeric_cols].isna().sum()"
   ]
  },
  {
   "cell_type": "code",
   "execution_count": 37,
   "id": "a78cd26e",
   "metadata": {},
   "outputs": [
    {
     "data": {
      "text/plain": [
       "open      0\n",
       "high      0\n",
       "low       0\n",
       "volume    0\n",
       "dtype: int64"
      ]
     },
     "execution_count": 37,
     "metadata": {},
     "output_type": "execute_result"
    }
   ],
   "source": [
    "val_inputs[numeric_cols].isna().sum()"
   ]
  },
  {
   "cell_type": "code",
   "execution_count": 38,
   "id": "a3a6a660",
   "metadata": {},
   "outputs": [],
   "source": [
    "from sklearn.preprocessing import MinMaxScaler"
   ]
  },
  {
   "cell_type": "code",
   "execution_count": 39,
   "id": "a15c6fb4",
   "metadata": {},
   "outputs": [],
   "source": [
    "scaler = MinMaxScaler().fit(raw_df[numeric_cols])"
   ]
  },
  {
   "cell_type": "code",
   "execution_count": 40,
   "id": "7cb24b2c",
   "metadata": {},
   "outputs": [],
   "source": [
    "train_inputs[numeric_cols] = scaler.transform(train_inputs[numeric_cols])\n",
    "val_inputs[numeric_cols] = scaler.transform(val_inputs[numeric_cols])\n",
    "test_inputs[numeric_cols] = scaler.transform(test_inputs[numeric_cols])"
   ]
  },
  {
   "cell_type": "code",
   "execution_count": 41,
   "id": "9cbbb262",
   "metadata": {},
   "outputs": [
    {
     "data": {
      "text/html": [
       "<div>\n",
       "<style scoped>\n",
       "    .dataframe tbody tr th:only-of-type {\n",
       "        vertical-align: middle;\n",
       "    }\n",
       "\n",
       "    .dataframe tbody tr th {\n",
       "        vertical-align: top;\n",
       "    }\n",
       "\n",
       "    .dataframe thead th {\n",
       "        text-align: right;\n",
       "    }\n",
       "</style>\n",
       "<table border=\"1\" class=\"dataframe\">\n",
       "  <thead>\n",
       "    <tr style=\"text-align: right;\">\n",
       "      <th></th>\n",
       "      <th>open</th>\n",
       "      <th>high</th>\n",
       "      <th>low</th>\n",
       "      <th>volume</th>\n",
       "    </tr>\n",
       "  </thead>\n",
       "  <tbody>\n",
       "    <tr>\n",
       "      <th>min</th>\n",
       "      <td>0.000020</td>\n",
       "      <td>0.000058</td>\n",
       "      <td>0.000000</td>\n",
       "      <td>0.000109</td>\n",
       "    </tr>\n",
       "    <tr>\n",
       "      <th>max</th>\n",
       "      <td>0.774988</td>\n",
       "      <td>0.773963</td>\n",
       "      <td>0.761424</td>\n",
       "      <td>0.606706</td>\n",
       "    </tr>\n",
       "  </tbody>\n",
       "</table>\n",
       "</div>"
      ],
      "text/plain": [
       "         open      high       low    volume\n",
       "min  0.000020  0.000058  0.000000  0.000109\n",
       "max  0.774988  0.773963  0.761424  0.606706"
      ]
     },
     "execution_count": 41,
     "metadata": {},
     "output_type": "execute_result"
    }
   ],
   "source": [
    "val_inputs.describe().loc[['min', 'max']]"
   ]
  },
  {
   "cell_type": "code",
   "execution_count": 42,
   "id": "30794a20",
   "metadata": {},
   "outputs": [],
   "source": [
    "X_train = train_inputs[numeric_cols]\n",
    "X_val = val_inputs[numeric_cols]\n",
    "X_test = test_inputs[numeric_cols]"
   ]
  },
  {
   "cell_type": "code",
   "execution_count": 43,
   "id": "3c913df6",
   "metadata": {},
   "outputs": [
    {
     "data": {
      "text/html": [
       "<div>\n",
       "<style scoped>\n",
       "    .dataframe tbody tr th:only-of-type {\n",
       "        vertical-align: middle;\n",
       "    }\n",
       "\n",
       "    .dataframe tbody tr th {\n",
       "        vertical-align: top;\n",
       "    }\n",
       "\n",
       "    .dataframe thead th {\n",
       "        text-align: right;\n",
       "    }\n",
       "</style>\n",
       "<table border=\"1\" class=\"dataframe\">\n",
       "  <thead>\n",
       "    <tr style=\"text-align: right;\">\n",
       "      <th></th>\n",
       "      <th>open</th>\n",
       "      <th>high</th>\n",
       "      <th>low</th>\n",
       "      <th>volume</th>\n",
       "    </tr>\n",
       "  </thead>\n",
       "  <tbody>\n",
       "    <tr>\n",
       "      <th>982</th>\n",
       "      <td>0.022356</td>\n",
       "      <td>0.022093</td>\n",
       "      <td>0.021949</td>\n",
       "      <td>0.010898</td>\n",
       "    </tr>\n",
       "    <tr>\n",
       "      <th>983</th>\n",
       "      <td>0.022038</td>\n",
       "      <td>0.022139</td>\n",
       "      <td>0.022054</td>\n",
       "      <td>0.009478</td>\n",
       "    </tr>\n",
       "    <tr>\n",
       "      <th>984</th>\n",
       "      <td>0.021984</td>\n",
       "      <td>0.021894</td>\n",
       "      <td>0.021690</td>\n",
       "      <td>0.011040</td>\n",
       "    </tr>\n",
       "    <tr>\n",
       "      <th>985</th>\n",
       "      <td>0.021656</td>\n",
       "      <td>0.021793</td>\n",
       "      <td>0.021622</td>\n",
       "      <td>0.011743</td>\n",
       "    </tr>\n",
       "    <tr>\n",
       "      <th>986</th>\n",
       "      <td>0.021734</td>\n",
       "      <td>0.022093</td>\n",
       "      <td>0.021774</td>\n",
       "      <td>0.007665</td>\n",
       "    </tr>\n",
       "    <tr>\n",
       "      <th>...</th>\n",
       "      <td>...</td>\n",
       "      <td>...</td>\n",
       "      <td>...</td>\n",
       "      <td>...</td>\n",
       "    </tr>\n",
       "    <tr>\n",
       "      <th>619035</th>\n",
       "      <td>0.036830</td>\n",
       "      <td>0.037061</td>\n",
       "      <td>0.036974</td>\n",
       "      <td>0.004824</td>\n",
       "    </tr>\n",
       "    <tr>\n",
       "      <th>619036</th>\n",
       "      <td>0.037167</td>\n",
       "      <td>0.036989</td>\n",
       "      <td>0.036993</td>\n",
       "      <td>0.004198</td>\n",
       "    </tr>\n",
       "    <tr>\n",
       "      <th>619037</th>\n",
       "      <td>0.036732</td>\n",
       "      <td>0.036408</td>\n",
       "      <td>0.035248</td>\n",
       "      <td>0.004791</td>\n",
       "    </tr>\n",
       "    <tr>\n",
       "      <th>619038</th>\n",
       "      <td>0.034822</td>\n",
       "      <td>0.035266</td>\n",
       "      <td>0.034731</td>\n",
       "      <td>0.007965</td>\n",
       "    </tr>\n",
       "    <tr>\n",
       "      <th>619039</th>\n",
       "      <td>0.034803</td>\n",
       "      <td>0.035479</td>\n",
       "      <td>0.035007</td>\n",
       "      <td>0.007335</td>\n",
       "    </tr>\n",
       "  </tbody>\n",
       "</table>\n",
       "<p>139161 rows × 4 columns</p>\n",
       "</div>"
      ],
      "text/plain": [
       "            open      high       low    volume\n",
       "982     0.022356  0.022093  0.021949  0.010898\n",
       "983     0.022038  0.022139  0.022054  0.009478\n",
       "984     0.021984  0.021894  0.021690  0.011040\n",
       "985     0.021656  0.021793  0.021622  0.011743\n",
       "986     0.021734  0.022093  0.021774  0.007665\n",
       "...          ...       ...       ...       ...\n",
       "619035  0.036830  0.037061  0.036974  0.004824\n",
       "619036  0.037167  0.036989  0.036993  0.004198\n",
       "619037  0.036732  0.036408  0.035248  0.004791\n",
       "619038  0.034822  0.035266  0.034731  0.007965\n",
       "619039  0.034803  0.035479  0.035007  0.007335\n",
       "\n",
       "[139161 rows x 4 columns]"
      ]
     },
     "execution_count": 43,
     "metadata": {},
     "output_type": "execute_result"
    }
   ],
   "source": [
    "X_test"
   ]
  },
  {
   "cell_type": "code",
   "execution_count": 44,
   "id": "c0665d5e",
   "metadata": {},
   "outputs": [],
   "source": [
    "from sklearn.tree import DecisionTreeClassifier"
   ]
  },
  {
   "cell_type": "code",
   "execution_count": 45,
   "id": "29b961c9",
   "metadata": {},
   "outputs": [],
   "source": [
    "model = DecisionTreeClassifier(random_state=42)"
   ]
  },
  {
   "cell_type": "code",
   "execution_count": null,
   "id": "01f88a35",
   "metadata": {},
   "outputs": [],
   "source": []
  }
 ],
 "metadata": {
  "kernelspec": {
   "display_name": "Python 3 (ipykernel)",
   "language": "python",
   "name": "python3"
  },
  "language_info": {
   "codemirror_mode": {
    "name": "ipython",
    "version": 3
   },
   "file_extension": ".py",
   "mimetype": "text/x-python",
   "name": "python",
   "nbconvert_exporter": "python",
   "pygments_lexer": "ipython3",
   "version": "3.9.7"
  }
 },
 "nbformat": 4,
 "nbformat_minor": 5
}
