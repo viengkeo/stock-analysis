{
 "cells": [
  {
   "cell_type": "code",
   "execution_count": 1,
   "id": "0941155c",
   "metadata": {},
   "outputs": [],
   "source": [
    "!pip install pandas --quiet"
   ]
  },
  {
   "cell_type": "code",
   "execution_count": 2,
   "id": "5887fdb8",
   "metadata": {},
   "outputs": [],
   "source": [
    "import sys"
   ]
  },
  {
   "cell_type": "code",
   "execution_count": 3,
   "id": "2c0319bf",
   "metadata": {},
   "outputs": [],
   "source": [
    "!pip install opendatasets --upgrade --quiet"
   ]
  },
  {
   "cell_type": "code",
   "execution_count": 4,
   "id": "5bb0316f",
   "metadata": {},
   "outputs": [],
   "source": [
    "dataset_url = 'https://www.kaggle.com/camnugent/sandp500'"
   ]
  },
  {
   "cell_type": "code",
   "execution_count": 5,
   "id": "47f60d8f",
   "metadata": {},
   "outputs": [],
   "source": [
    "import opendatasets as od"
   ]
  },
  {
   "cell_type": "code",
   "execution_count": 6,
   "id": "f6d50bf3",
   "metadata": {},
   "outputs": [
    {
     "name": "stdout",
     "output_type": "stream",
     "text": [
      "Skipping, found downloaded files in \".\\sandp500\" (use force=True to force download)\n"
     ]
    }
   ],
   "source": [
    "od.download(dataset_url)"
   ]
  },
  {
   "cell_type": "code",
   "execution_count": 7,
   "id": "ff67dd73",
   "metadata": {},
   "outputs": [],
   "source": [
    "import os"
   ]
  },
  {
   "cell_type": "code",
   "execution_count": 8,
   "id": "466405e9",
   "metadata": {},
   "outputs": [],
   "source": [
    "data_dir = './sandp500'"
   ]
  },
  {
   "cell_type": "code",
   "execution_count": 9,
   "id": "1c418f80",
   "metadata": {},
   "outputs": [
    {
     "data": {
      "text/plain": [
       "['all_stocks_5yr.csv', 'getSandP.py', 'individual_stocks_5yr', 'merge.sh']"
      ]
     },
     "execution_count": 9,
     "metadata": {},
     "output_type": "execute_result"
    }
   ],
   "source": [
    "os.listdir(data_dir)"
   ]
  },
  {
   "cell_type": "code",
   "execution_count": 10,
   "id": "3cb739c0",
   "metadata": {},
   "outputs": [],
   "source": [
    "train_csv = data_dir + '/all_stocks_5yr.csv'"
   ]
  },
  {
   "cell_type": "code",
   "execution_count": 11,
   "id": "9499587c",
   "metadata": {},
   "outputs": [
    {
     "name": "stdout",
     "output_type": "stream",
     "text": [
      "Requirement already satisfied: pandas in c:\\users\\viengkeo\\anaconda3\\lib\\site-packages (1.4.2)\n",
      "Requirement already satisfied: python-dateutil>=2.8.1 in c:\\users\\viengkeo\\anaconda3\\lib\\site-packages (from pandas) (2.8.2)\n",
      "Requirement already satisfied: numpy>=1.18.5 in c:\\users\\viengkeo\\anaconda3\\lib\\site-packages (from pandas) (1.21.5)\n",
      "Requirement already satisfied: pytz>=2020.1 in c:\\users\\viengkeo\\anaconda3\\lib\\site-packages (from pandas) (2022.1)\n",
      "Requirement already satisfied: six>=1.5 in c:\\users\\viengkeo\\anaconda3\\lib\\site-packages (from python-dateutil>=2.8.1->pandas) (1.16.0)\n"
     ]
    }
   ],
   "source": [
    "!pip install pandas"
   ]
  },
  {
   "cell_type": "code",
   "execution_count": 12,
   "id": "a79b31c9",
   "metadata": {},
   "outputs": [],
   "source": [
    "import pandas as pd"
   ]
  },
  {
   "cell_type": "code",
   "execution_count": 34,
   "id": "a88c2625",
   "metadata": {},
   "outputs": [
    {
     "data": {
      "text/html": [
       "<div>\n",
       "<style scoped>\n",
       "    .dataframe tbody tr th:only-of-type {\n",
       "        vertical-align: middle;\n",
       "    }\n",
       "\n",
       "    .dataframe tbody tr th {\n",
       "        vertical-align: top;\n",
       "    }\n",
       "\n",
       "    .dataframe thead th {\n",
       "        text-align: right;\n",
       "    }\n",
       "</style>\n",
       "<table border=\"1\" class=\"dataframe\">\n",
       "  <thead>\n",
       "    <tr style=\"text-align: right;\">\n",
       "      <th></th>\n",
       "      <th>date</th>\n",
       "      <th>open</th>\n",
       "      <th>high</th>\n",
       "      <th>low</th>\n",
       "      <th>close</th>\n",
       "      <th>volume</th>\n",
       "      <th>Name</th>\n",
       "    </tr>\n",
       "  </thead>\n",
       "  <tbody>\n",
       "    <tr>\n",
       "      <th>0</th>\n",
       "      <td>2013-02-08</td>\n",
       "      <td>15.07</td>\n",
       "      <td>15.12</td>\n",
       "      <td>14.63</td>\n",
       "      <td>14.75</td>\n",
       "      <td>8407500</td>\n",
       "      <td>AAL</td>\n",
       "    </tr>\n",
       "    <tr>\n",
       "      <th>1</th>\n",
       "      <td>2013-02-11</td>\n",
       "      <td>14.89</td>\n",
       "      <td>15.01</td>\n",
       "      <td>14.26</td>\n",
       "      <td>14.46</td>\n",
       "      <td>8882000</td>\n",
       "      <td>AAL</td>\n",
       "    </tr>\n",
       "    <tr>\n",
       "      <th>2</th>\n",
       "      <td>2013-02-12</td>\n",
       "      <td>14.45</td>\n",
       "      <td>14.51</td>\n",
       "      <td>14.10</td>\n",
       "      <td>14.27</td>\n",
       "      <td>8126000</td>\n",
       "      <td>AAL</td>\n",
       "    </tr>\n",
       "    <tr>\n",
       "      <th>3</th>\n",
       "      <td>2013-02-13</td>\n",
       "      <td>14.30</td>\n",
       "      <td>14.94</td>\n",
       "      <td>14.25</td>\n",
       "      <td>14.66</td>\n",
       "      <td>10259500</td>\n",
       "      <td>AAL</td>\n",
       "    </tr>\n",
       "    <tr>\n",
       "      <th>4</th>\n",
       "      <td>2013-02-14</td>\n",
       "      <td>14.94</td>\n",
       "      <td>14.96</td>\n",
       "      <td>13.16</td>\n",
       "      <td>13.99</td>\n",
       "      <td>31879900</td>\n",
       "      <td>AAL</td>\n",
       "    </tr>\n",
       "    <tr>\n",
       "      <th>...</th>\n",
       "      <td>...</td>\n",
       "      <td>...</td>\n",
       "      <td>...</td>\n",
       "      <td>...</td>\n",
       "      <td>...</td>\n",
       "      <td>...</td>\n",
       "      <td>...</td>\n",
       "    </tr>\n",
       "    <tr>\n",
       "      <th>619035</th>\n",
       "      <td>2018-02-01</td>\n",
       "      <td>76.84</td>\n",
       "      <td>78.27</td>\n",
       "      <td>76.69</td>\n",
       "      <td>77.82</td>\n",
       "      <td>2982259</td>\n",
       "      <td>ZTS</td>\n",
       "    </tr>\n",
       "    <tr>\n",
       "      <th>619036</th>\n",
       "      <td>2018-02-02</td>\n",
       "      <td>77.53</td>\n",
       "      <td>78.12</td>\n",
       "      <td>76.73</td>\n",
       "      <td>76.78</td>\n",
       "      <td>2595187</td>\n",
       "      <td>ZTS</td>\n",
       "    </tr>\n",
       "    <tr>\n",
       "      <th>619037</th>\n",
       "      <td>2018-02-05</td>\n",
       "      <td>76.64</td>\n",
       "      <td>76.92</td>\n",
       "      <td>73.18</td>\n",
       "      <td>73.83</td>\n",
       "      <td>2962031</td>\n",
       "      <td>ZTS</td>\n",
       "    </tr>\n",
       "    <tr>\n",
       "      <th>619038</th>\n",
       "      <td>2018-02-06</td>\n",
       "      <td>72.74</td>\n",
       "      <td>74.56</td>\n",
       "      <td>72.13</td>\n",
       "      <td>73.27</td>\n",
       "      <td>4924323</td>\n",
       "      <td>ZTS</td>\n",
       "    </tr>\n",
       "    <tr>\n",
       "      <th>619039</th>\n",
       "      <td>2018-02-07</td>\n",
       "      <td>72.70</td>\n",
       "      <td>75.00</td>\n",
       "      <td>72.69</td>\n",
       "      <td>73.86</td>\n",
       "      <td>4534912</td>\n",
       "      <td>ZTS</td>\n",
       "    </tr>\n",
       "  </tbody>\n",
       "</table>\n",
       "<p>619040 rows × 7 columns</p>\n",
       "</div>"
      ],
      "text/plain": [
       "              date   open   high    low  close    volume Name\n",
       "0       2013-02-08  15.07  15.12  14.63  14.75   8407500  AAL\n",
       "1       2013-02-11  14.89  15.01  14.26  14.46   8882000  AAL\n",
       "2       2013-02-12  14.45  14.51  14.10  14.27   8126000  AAL\n",
       "3       2013-02-13  14.30  14.94  14.25  14.66  10259500  AAL\n",
       "4       2013-02-14  14.94  14.96  13.16  13.99  31879900  AAL\n",
       "...            ...    ...    ...    ...    ...       ...  ...\n",
       "619035  2018-02-01  76.84  78.27  76.69  77.82   2982259  ZTS\n",
       "619036  2018-02-02  77.53  78.12  76.73  76.78   2595187  ZTS\n",
       "619037  2018-02-05  76.64  76.92  73.18  73.83   2962031  ZTS\n",
       "619038  2018-02-06  72.74  74.56  72.13  73.27   4924323  ZTS\n",
       "619039  2018-02-07  72.70  75.00  72.69  73.86   4534912  ZTS\n",
       "\n",
       "[619040 rows x 7 columns]"
      ]
     },
     "execution_count": 34,
     "metadata": {},
     "output_type": "execute_result"
    }
   ],
   "source": [
    "raw_df = pd.read_csv(train_csv)\n",
    "raw_df"
   ]
  },
  {
   "cell_type": "code",
   "execution_count": 35,
   "id": "97d09ba6",
   "metadata": {},
   "outputs": [
    {
     "name": "stdout",
     "output_type": "stream",
     "text": [
      "<class 'pandas.core.frame.DataFrame'>\n",
      "RangeIndex: 619040 entries, 0 to 619039\n",
      "Data columns (total 7 columns):\n",
      " #   Column  Non-Null Count   Dtype  \n",
      "---  ------  --------------   -----  \n",
      " 0   date    619040 non-null  object \n",
      " 1   open    619029 non-null  float64\n",
      " 2   high    619032 non-null  float64\n",
      " 3   low     619032 non-null  float64\n",
      " 4   close   619040 non-null  float64\n",
      " 5   volume  619040 non-null  int64  \n",
      " 6   Name    619040 non-null  object \n",
      "dtypes: float64(4), int64(1), object(2)\n",
      "memory usage: 33.1+ MB\n"
     ]
    }
   ],
   "source": [
    "raw_df.info()"
   ]
  },
  {
   "cell_type": "code",
   "execution_count": 36,
   "id": "e9a452a0",
   "metadata": {},
   "outputs": [],
   "source": [
    "raw_df.dropna(subset=['close', 'low', 'high', 'open', 'volume'], inplace=True) #dropna eliminates any value with null value"
   ]
  },
  {
   "cell_type": "code",
   "execution_count": 37,
   "id": "81d58f46",
   "metadata": {},
   "outputs": [
    {
     "name": "stdout",
     "output_type": "stream",
     "text": [
      "<class 'pandas.core.frame.DataFrame'>\n",
      "Int64Index: 619029 entries, 0 to 619039\n",
      "Data columns (total 7 columns):\n",
      " #   Column  Non-Null Count   Dtype  \n",
      "---  ------  --------------   -----  \n",
      " 0   date    619029 non-null  object \n",
      " 1   open    619029 non-null  float64\n",
      " 2   high    619029 non-null  float64\n",
      " 3   low     619029 non-null  float64\n",
      " 4   close   619029 non-null  float64\n",
      " 5   volume  619029 non-null  int64  \n",
      " 6   Name    619029 non-null  object \n",
      "dtypes: float64(4), int64(1), object(2)\n",
      "memory usage: 37.8+ MB\n"
     ]
    }
   ],
   "source": [
    "raw_df.info() #the null values were eliminated as the row of items decrease to 619029"
   ]
  },
  {
   "cell_type": "code",
   "execution_count": 38,
   "id": "456aea9c",
   "metadata": {},
   "outputs": [
    {
     "data": {
      "text/html": [
       "<div>\n",
       "<style scoped>\n",
       "    .dataframe tbody tr th:only-of-type {\n",
       "        vertical-align: middle;\n",
       "    }\n",
       "\n",
       "    .dataframe tbody tr th {\n",
       "        vertical-align: top;\n",
       "    }\n",
       "\n",
       "    .dataframe thead th {\n",
       "        text-align: right;\n",
       "    }\n",
       "</style>\n",
       "<table border=\"1\" class=\"dataframe\">\n",
       "  <thead>\n",
       "    <tr style=\"text-align: right;\">\n",
       "      <th></th>\n",
       "      <th>open</th>\n",
       "      <th>high</th>\n",
       "      <th>low</th>\n",
       "      <th>close</th>\n",
       "      <th>volume</th>\n",
       "    </tr>\n",
       "  </thead>\n",
       "  <tbody>\n",
       "    <tr>\n",
       "      <th>count</th>\n",
       "      <td>619029.000000</td>\n",
       "      <td>619029.000000</td>\n",
       "      <td>619029.000000</td>\n",
       "      <td>619029.000000</td>\n",
       "      <td>6.190290e+05</td>\n",
       "    </tr>\n",
       "    <tr>\n",
       "      <th>mean</th>\n",
       "      <td>83.023334</td>\n",
       "      <td>83.778419</td>\n",
       "      <td>82.256200</td>\n",
       "      <td>83.043305</td>\n",
       "      <td>4.321892e+06</td>\n",
       "    </tr>\n",
       "    <tr>\n",
       "      <th>std</th>\n",
       "      <td>97.378769</td>\n",
       "      <td>98.207735</td>\n",
       "      <td>96.507634</td>\n",
       "      <td>97.388913</td>\n",
       "      <td>8.693671e+06</td>\n",
       "    </tr>\n",
       "    <tr>\n",
       "      <th>min</th>\n",
       "      <td>1.620000</td>\n",
       "      <td>1.690000</td>\n",
       "      <td>1.500000</td>\n",
       "      <td>1.590000</td>\n",
       "      <td>1.010000e+02</td>\n",
       "    </tr>\n",
       "    <tr>\n",
       "      <th>25%</th>\n",
       "      <td>40.220000</td>\n",
       "      <td>40.620000</td>\n",
       "      <td>39.830000</td>\n",
       "      <td>40.240800</td>\n",
       "      <td>1.070351e+06</td>\n",
       "    </tr>\n",
       "    <tr>\n",
       "      <th>50%</th>\n",
       "      <td>62.590000</td>\n",
       "      <td>63.150000</td>\n",
       "      <td>62.020000</td>\n",
       "      <td>62.620000</td>\n",
       "      <td>2.082165e+06</td>\n",
       "    </tr>\n",
       "    <tr>\n",
       "      <th>75%</th>\n",
       "      <td>94.370000</td>\n",
       "      <td>95.180000</td>\n",
       "      <td>93.540000</td>\n",
       "      <td>94.410000</td>\n",
       "      <td>4.284550e+06</td>\n",
       "    </tr>\n",
       "    <tr>\n",
       "      <th>max</th>\n",
       "      <td>2044.000000</td>\n",
       "      <td>2067.990000</td>\n",
       "      <td>2035.110000</td>\n",
       "      <td>2049.000000</td>\n",
       "      <td>6.182376e+08</td>\n",
       "    </tr>\n",
       "  </tbody>\n",
       "</table>\n",
       "</div>"
      ],
      "text/plain": [
       "                open           high            low          close  \\\n",
       "count  619029.000000  619029.000000  619029.000000  619029.000000   \n",
       "mean       83.023334      83.778419      82.256200      83.043305   \n",
       "std        97.378769      98.207735      96.507634      97.388913   \n",
       "min         1.620000       1.690000       1.500000       1.590000   \n",
       "25%        40.220000      40.620000      39.830000      40.240800   \n",
       "50%        62.590000      63.150000      62.020000      62.620000   \n",
       "75%        94.370000      95.180000      93.540000      94.410000   \n",
       "max      2044.000000    2067.990000    2035.110000    2049.000000   \n",
       "\n",
       "             volume  \n",
       "count  6.190290e+05  \n",
       "mean   4.321892e+06  \n",
       "std    8.693671e+06  \n",
       "min    1.010000e+02  \n",
       "25%    1.070351e+06  \n",
       "50%    2.082165e+06  \n",
       "75%    4.284550e+06  \n",
       "max    6.182376e+08  "
      ]
     },
     "execution_count": 38,
     "metadata": {},
     "output_type": "execute_result"
    }
   ],
   "source": [
    "raw_df.describe()"
   ]
  },
  {
   "cell_type": "code",
   "execution_count": 39,
   "id": "630dca6b",
   "metadata": {},
   "outputs": [
    {
     "data": {
      "text/plain": [
       "0.9998719317422582"
      ]
     },
     "execution_count": 39,
     "metadata": {},
     "output_type": "execute_result"
    }
   ],
   "source": [
    "raw_df.close.corr(raw_df.open)"
   ]
  },
  {
   "cell_type": "code",
   "execution_count": 40,
   "id": "9bc1ceea",
   "metadata": {},
   "outputs": [
    {
     "data": {
      "text/plain": [
       "0.9999363707838036"
      ]
     },
     "execution_count": 40,
     "metadata": {},
     "output_type": "execute_result"
    }
   ],
   "source": [
    "raw_df.close.corr(raw_df.high)"
   ]
  },
  {
   "cell_type": "code",
   "execution_count": 41,
   "id": "c7625ed6",
   "metadata": {},
   "outputs": [
    {
     "data": {
      "text/plain": [
       "0.9999391836701348"
      ]
     },
     "execution_count": 41,
     "metadata": {},
     "output_type": "execute_result"
    }
   ],
   "source": [
    "raw_df.close.corr(raw_df.low)"
   ]
  },
  {
   "cell_type": "code",
   "execution_count": 42,
   "id": "a275dbb5",
   "metadata": {},
   "outputs": [
    {
     "data": {
      "text/plain": [
       "-0.14280236369618454"
      ]
     },
     "execution_count": 42,
     "metadata": {},
     "output_type": "execute_result"
    }
   ],
   "source": [
    "raw_df.close.corr(raw_df.volume)"
   ]
  },
  {
   "cell_type": "code",
   "execution_count": 45,
   "id": "8ec1c144",
   "metadata": {},
   "outputs": [
    {
     "data": {
      "text/html": [
       "<div>\n",
       "<style scoped>\n",
       "    .dataframe tbody tr th:only-of-type {\n",
       "        vertical-align: middle;\n",
       "    }\n",
       "\n",
       "    .dataframe tbody tr th {\n",
       "        vertical-align: top;\n",
       "    }\n",
       "\n",
       "    .dataframe thead th {\n",
       "        text-align: right;\n",
       "    }\n",
       "</style>\n",
       "<table border=\"1\" class=\"dataframe\">\n",
       "  <thead>\n",
       "    <tr style=\"text-align: right;\">\n",
       "      <th></th>\n",
       "      <th>open</th>\n",
       "      <th>high</th>\n",
       "      <th>low</th>\n",
       "      <th>close</th>\n",
       "      <th>volume</th>\n",
       "    </tr>\n",
       "  </thead>\n",
       "  <tbody>\n",
       "    <tr>\n",
       "      <th>open</th>\n",
       "      <td>1.000000</td>\n",
       "      <td>0.999939</td>\n",
       "      <td>0.999928</td>\n",
       "      <td>0.999872</td>\n",
       "      <td>-0.142705</td>\n",
       "    </tr>\n",
       "    <tr>\n",
       "      <th>high</th>\n",
       "      <td>0.999939</td>\n",
       "      <td>1.000000</td>\n",
       "      <td>0.999903</td>\n",
       "      <td>0.999936</td>\n",
       "      <td>-0.142316</td>\n",
       "    </tr>\n",
       "    <tr>\n",
       "      <th>low</th>\n",
       "      <td>0.999928</td>\n",
       "      <td>0.999903</td>\n",
       "      <td>1.000000</td>\n",
       "      <td>0.999939</td>\n",
       "      <td>-0.143240</td>\n",
       "    </tr>\n",
       "    <tr>\n",
       "      <th>close</th>\n",
       "      <td>0.999872</td>\n",
       "      <td>0.999936</td>\n",
       "      <td>0.999939</td>\n",
       "      <td>1.000000</td>\n",
       "      <td>-0.142802</td>\n",
       "    </tr>\n",
       "    <tr>\n",
       "      <th>volume</th>\n",
       "      <td>-0.142705</td>\n",
       "      <td>-0.142316</td>\n",
       "      <td>-0.143240</td>\n",
       "      <td>-0.142802</td>\n",
       "      <td>1.000000</td>\n",
       "    </tr>\n",
       "  </tbody>\n",
       "</table>\n",
       "</div>"
      ],
      "text/plain": [
       "            open      high       low     close    volume\n",
       "open    1.000000  0.999939  0.999928  0.999872 -0.142705\n",
       "high    0.999939  1.000000  0.999903  0.999936 -0.142316\n",
       "low     0.999928  0.999903  1.000000  0.999939 -0.143240\n",
       "close   0.999872  0.999936  0.999939  1.000000 -0.142802\n",
       "volume -0.142705 -0.142316 -0.143240 -0.142802  1.000000"
      ]
     },
     "execution_count": 45,
     "metadata": {},
     "output_type": "execute_result"
    }
   ],
   "source": [
    "raw_df.corr() # It appears the low as the most correlation with the close stock price"
   ]
  },
  {
   "cell_type": "code",
   "execution_count": 46,
   "id": "233f9b35",
   "metadata": {},
   "outputs": [
    {
     "data": {
      "image/png": "[encoded data removed]",
      "text/plain": [
       "<Figure size 720x432 with 2 Axes>"
      ]
     },
     "metadata": {
      "needs_background": "light"
     },
     "output_type": "display_data"
    }
   ],
   "source": [
    "sns.heatmap(raw_df.corr(), cmap='Reds', annot=True)\n",
    "plt.title('Correlation Matrix');"
   ]
  },
  {
   "cell_type": "code",
   "execution_count": 47,
   "id": "b2eaf227",
   "metadata": {},
   "outputs": [
    {
     "data": {
      "image/png": "[encoded data removed]",
      "text/plain": [
       "<Figure size 720x432 with 1 Axes>"
      ]
     },
     "metadata": {
      "needs_background": "light"
     },
     "output_type": "display_data"
    }
   ],
   "source": [
    "plt.title('low vs. close')\n",
    "sns.scatterplot(data=raw_df, x='low', y='close', alpha=0.7, s=15);"
   ]
  },
  {
   "cell_type": "code",
   "execution_count": 53,
   "id": "da744ad7",
   "metadata": {},
   "outputs": [],
   "source": [
    "def estimate_close(low, w, b):\n",
    "    return w * low + b"
   ]
  },
  {
   "cell_type": "code",
   "execution_count": 54,
   "id": "56d5d383",
   "metadata": {},
   "outputs": [],
   "source": [
    "w = 50\n",
    "b = 100"
   ]
  },
  {
   "cell_type": "code",
   "execution_count": 56,
   "id": "21c054db",
   "metadata": {},
   "outputs": [],
   "source": [
    "low = raw_df.low\n",
    "estimated_close = estimate_close(low, w, b)"
   ]
  },
  {
   "cell_type": "code",
   "execution_count": 57,
   "id": "c8676538",
   "metadata": {},
   "outputs": [
    {
     "data": {
      "image/png": "[encoded data removed]",
      "text/plain": [
       "<Figure size 720x432 with 1 Axes>"
      ]
     },
     "metadata": {
      "needs_background": "light"
     },
     "output_type": "display_data"
    }
   ],
   "source": [
    "plt.plot(low, estimated_close, 'r-o');\n",
    "plt.xlabel('Low');\n",
    "plt.ylabel('Estimated Close');"
   ]
  },
  {
   "cell_type": "code",
   "execution_count": null,
   "id": "c35c4759",
   "metadata": {},
   "outputs": [],
   "source": []
  }
 ],
 "metadata": {
  "kernelspec": {
   "display_name": "Python 3 (ipykernel)",
   "language": "python",
   "name": "python3"
  },
  "language_info": {
   "codemirror_mode": {
    "name": "ipython",
    "version": 3
   },
   "file_extension": ".py",
   "mimetype": "text/x-python",
   "name": "python",
   "nbconvert_exporter": "python",
   "pygments_lexer": "ipython3",
   "version": "3.9.7"
  }
 },
 "nbformat": 4,
 "nbformat_minor": 5
}
